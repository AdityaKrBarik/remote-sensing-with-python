{
 "cells": [
  {
   "cell_type": "markdown",
   "metadata": {},
   "source": [
    "# Exercise 6: \n",
    "\n",
    "_Using matplotlib to plot a histogram of pixel values_\n"
   ]
  },
  {
   "cell_type": "code",
   "execution_count": null,
   "metadata": {},
   "outputs": [],
   "source": [
    "import rasterio\n",
    "import numpy\n",
    "import math\n",
    "from matplotlib import pyplot as plt\n",
    "\n",
    "# This notebook explores a single 4 band (blue, green, red, NIR) PlanetScope scene in a UTM projection.\n",
    "image_file = \"example.tif\"\n",
    "\n",
    "# Use Rasterio to open the image.\n",
    "satdat = rasterio.open(image_file)"
   ]
  },
  {
   "cell_type": "code",
   "execution_count": null,
   "metadata": {},
   "outputs": [],
   "source": [
    "# Load the 4 bands into 2d arrays - recall that we previously learned PlanetScope band order is BGRN.\n",
    "blue, green, red, nir = satdat.read()"
   ]
  },
  {
   "cell_type": "code",
   "execution_count": null,
   "metadata": {},
   "outputs": [],
   "source": [
    "# Define a new figure\n",
    "fig2 = plt.figure(figsize=(20,10))\n",
    "\n",
    "# Give this new figure a subplot, which will contain the histogram itself\n",
    "ax = fig2.add_subplot(111)\n",
    "\n",
    "# Add a title & (x,y) labels to the plot\n",
    "plt.title(\"Histogram Example\", fontsize=18, fontweight='bold')\n",
    "plt.xlabel(\"pixel values\", fontsize=14)\n",
    "plt.ylabel(\"Number of pixels\", fontsize=14)\n",
    "\n",
    "# let's plot non-null blue band values as an example\n",
    "# For the x-axis, we want to count every pixel that is not an empty value\n",
    "x = b[~numpy.isnan(b)]\n",
    "\n",
    "# Define the number of bins to divide the data into\n",
    "bins = 20\n",
    "\n",
    "# Define a color for the histogram\n",
    "# You can use https://matplotlib.org/2.0.0/examples/color/named_colors.html as a reference\n",
    "color = 'lightgreen'\n",
    "\n",
    "# call 'hist` with our x-axis, bins, and color details\n",
    "ax.hist(x,bins,color=color)\n",
    "\n",
    "# Save the generated figure to an external image file\n",
    "fig2.savefig(\"histogram.png\", dpi=200, bbox_inches='tight', pad_inches=0.7)\n",
    "\n",
    "# Finally - let's take a look!\n",
    "plt.show()"
   ]
  }
 ],
 "metadata": {
  "kernelspec": {
   "display_name": "rs103",
   "language": "python",
   "name": "rs103"
  },
  "language_info": {
   "codemirror_mode": {
    "name": "ipython",
    "version": 3
   },
   "file_extension": ".py",
   "mimetype": "text/x-python",
   "name": "python",
   "nbconvert_exporter": "python",
   "pygments_lexer": "ipython3",
   "version": "3.6.7"
  }
 },
 "nbformat": 4,
 "nbformat_minor": 2
}
